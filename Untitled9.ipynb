{
 "cells": [
  {
   "cell_type": "code",
   "execution_count": 8,
   "id": "a3e6139e",
   "metadata": {},
   "outputs": [
    {
     "data": {
      "text/plain": [
       "'\\nPython is a \\nhighlevel\\nprogramming language\\n'"
      ]
     },
     "execution_count": 8,
     "metadata": {},
     "output_type": "execute_result"
    }
   ],
   "source": [
    "#Q1. How do you comment code in Python? What are the different types of comments?\n",
    "\n",
    "\n",
    "\n",
    "\n",
    "#a) single line comment using '#'\n",
    "\n",
    "i=0 #intialize a integer variable\n",
    "\n",
    "#b) multiline comment  using ''' '''\n",
    "\n",
    "'''\n",
    "Python is a \n",
    "highlevel\n",
    "programming language\n",
    "'''"
   ]
  },
  {
   "cell_type": "code",
   "execution_count": 13,
   "id": "2ff89c41",
   "metadata": {},
   "outputs": [
    {
     "name": "stdout",
     "output_type": "stream",
     "text": [
      "John Kite 45\n"
     ]
    }
   ],
   "source": [
    "#Q2. What are variables in Python? How do you declare and assign values to variables?\n",
    "\n",
    "# A Variables in Python is only a name given to a memory location, all the operations done on the variable effects that memory location.\n",
    "\n",
    "# we dont need to declare the datatype of variable while declaring, Python automatically detect the data type.\n",
    "\n",
    "Name= 'John Kite' #String\n",
    "age= 45 #int\n",
    "print(Name, age)"
   ]
  },
  {
   "cell_type": "code",
   "execution_count": 19,
   "id": "07ca29cd",
   "metadata": {},
   "outputs": [
    {
     "name": "stdout",
     "output_type": "stream",
     "text": [
      "<class 'str'>\n",
      "after typecast\n",
      "<class 'int'>\n"
     ]
    }
   ],
   "source": [
    "#Q3. How do you convert one data type to another in Python?\n",
    "\n",
    "#by typecasting\n",
    "\n",
    "value = \"987\"\n",
    "print(type(value))\n",
    "print(\"after typecast\")\n",
    "number = int(value)\n",
    "print(type(number))"
   ]
  },
  {
   "cell_type": "code",
   "execution_count": 20,
   "id": "4d7bcc1f",
   "metadata": {},
   "outputs": [
    {
     "data": {
      "text/plain": [
       "'\\nWrite a code in the IDE or text editor.save it with the extension of .py\\nOpen the command prompt\\nredirect to the directory where the file is saved e.g. cd documents\\nUse python your/file/name.py to run your script from the terminal\\n'"
      ]
     },
     "execution_count": 20,
     "metadata": {},
     "output_type": "execute_result"
    }
   ],
   "source": [
    "#Q4. How do you write and execute a Python script from the command line?\\\n",
    "\n",
    "'''\n",
    "Write a code in the IDE or text editor.save it with the extension of .py\n",
    "Open the command prompt\n",
    "redirect to the directory where the file is saved e.g. cd documents\n",
    "Use python your/file/name.py to run your script from the terminal\n",
    "'''"
   ]
  },
  {
   "cell_type": "code",
   "execution_count": 22,
   "id": "2b796cb0",
   "metadata": {},
   "outputs": [
    {
     "name": "stdout",
     "output_type": "stream",
     "text": [
      "[2, 3]\n"
     ]
    }
   ],
   "source": [
    "#Q5. Given a list my_list = [1, 2, 3, 4, 5], write the code to slice the list and obtain the sub-list [2, 3].\n",
    "\n",
    "my_list = [1, 2, 3, 4, 5]\n",
    "sublist= my_list[1:3]\n",
    "print(sublist)"
   ]
  },
  {
   "cell_type": "code",
   "execution_count": 24,
   "id": "06fcf752",
   "metadata": {},
   "outputs": [
    {
     "name": "stdout",
     "output_type": "stream",
     "text": [
      "<class 'complex'>\n"
     ]
    }
   ],
   "source": [
    "#Q6. What is a complex number in mathematics, and how is it represented in Python?\n",
    "\n",
    "com_num = 8+9j\n",
    "print(type(com_num))"
   ]
  },
  {
   "cell_type": "code",
   "execution_count": 25,
   "id": "959fd7e1",
   "metadata": {},
   "outputs": [],
   "source": [
    "#Q7. What is the correct way to declare a variable named age and assign the value 25 to it?\n",
    "\n",
    "age=25"
   ]
  },
  {
   "cell_type": "code",
   "execution_count": 26,
   "id": "5fd0fcad",
   "metadata": {},
   "outputs": [
    {
     "name": "stdout",
     "output_type": "stream",
     "text": [
      "<class 'float'>\n"
     ]
    }
   ],
   "source": [
    "#Q8. Declare a variable named price and assign the value 9.99 to it. What data type does this variable belong to?\n",
    "\n",
    "price = 9.99\n",
    "# this is a float variable\n",
    "print(type(price))"
   ]
  },
  {
   "cell_type": "code",
   "execution_count": 27,
   "id": "5c222c94",
   "metadata": {},
   "outputs": [
    {
     "name": "stdout",
     "output_type": "stream",
     "text": [
      "Ananya Ray\n"
     ]
    }
   ],
   "source": [
    "#Q9. Create a variable named name and assign your full name to it as a string. How would you print the value of this variable?\n",
    "\n",
    "name= \"Ananya Ray\"\n",
    "print(name)"
   ]
  },
  {
   "cell_type": "code",
   "execution_count": 31,
   "id": "2717ae21",
   "metadata": {},
   "outputs": [
    {
     "name": "stdout",
     "output_type": "stream",
     "text": [
      "World\n"
     ]
    }
   ],
   "source": [
    "# Q10. Given the string \"Hello, World!\", extract the substring \"World\".\n",
    "s1= \"Hello, World!\"\n",
    "print(s1[7:12])"
   ]
  },
  {
   "cell_type": "code",
   "execution_count": 43,
   "id": "f5695eb3",
   "metadata": {},
   "outputs": [
    {
     "name": "stdout",
     "output_type": "stream",
     "text": [
      "are you a student?(yes/no): yes\n",
      "True\n"
     ]
    }
   ],
   "source": [
    "# Q11. Create a variable named \"is_student\" and assign it a boolean value indicating whether you are currently a student or not.\n",
    "\n",
    "is_student=True\n",
    "\n",
    "a=input(\"are you a student?(yes/no): \")\n",
    "if(a=='yes'):\n",
    "    print(is_student)\n",
    "else:\n",
    "    is_student= False\n",
    "    print(is_student)"
   ]
  },
  {
   "cell_type": "code",
   "execution_count": null,
   "id": "dc20a097",
   "metadata": {},
   "outputs": [],
   "source": []
  }
 ],
 "metadata": {
  "kernelspec": {
   "display_name": "Python 3 (ipykernel)",
   "language": "python",
   "name": "python3"
  },
  "language_info": {
   "codemirror_mode": {
    "name": "ipython",
    "version": 3
   },
   "file_extension": ".py",
   "mimetype": "text/x-python",
   "name": "python",
   "nbconvert_exporter": "python",
   "pygments_lexer": "ipython3",
   "version": "3.10.9"
  }
 },
 "nbformat": 4,
 "nbformat_minor": 5
}
