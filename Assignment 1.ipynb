{
 "cells": [
  {
   "cell_type": "markdown",
   "id": "6f1f287f",
   "metadata": {},
   "source": [
    "# Assignment - 1"
   ]
  },
  {
   "cell_type": "code",
   "execution_count": 1,
   "id": "5b6b0d6c",
   "metadata": {},
   "outputs": [
    {
     "name": "stdout",
     "output_type": "stream",
     "text": [
      "<class 'str'>\n",
      "<class 'list'>\n",
      "<class 'float'>\n",
      "<class 'tuple'>\n"
     ]
    }
   ],
   "source": [
    "# Q1) creating variable\n",
    "\n",
    "\n",
    "#strig\n",
    "s1= \"Hello\"\n",
    "print(type(s1))\n",
    "\n",
    "#list\n",
    "l1= [\"Hello\", \"World\", 1, 2, 3, \"Sun\"]\n",
    "print(type(l1))\n",
    "\n",
    "#float\n",
    "f1=343.23\n",
    "print(type(f1))\n",
    "\n",
    "#tuple\n",
    "t1=(\"fruit\", 23, 45, \"cucumber\", 5.22)\n",
    "print(type(t1))"
   ]
  },
  {
   "cell_type": "code",
   "execution_count": 2,
   "id": "53555b75",
   "metadata": {},
   "outputs": [
    {
     "name": "stdout",
     "output_type": "stream",
     "text": [
      "<class 'str'> <class 'str'> <class 'list'> <class 'int'>\n"
     ]
    }
   ],
   "source": [
    "# Q2)\n",
    "\n",
    "var1=''\n",
    "var2='[DS,ML,Python]'\n",
    "var3=['DS','ML','Python']\n",
    "var4=1\n",
    "\n",
    "print(type(var1),type(var2), type(var3), type(var4))"
   ]
  },
  {
   "cell_type": "code",
   "execution_count": 3,
   "id": "17d87a14",
   "metadata": {},
   "outputs": [
    {
     "data": {
      "text/plain": [
       "9.0"
      ]
     },
     "execution_count": 3,
     "metadata": {},
     "output_type": "execute_result"
    }
   ],
   "source": [
    "# Q3)(i)\n",
    "\n",
    "# /\n",
    "# this is use to perform division\n",
    "\n",
    "a=45\n",
    "b=5\n",
    "\n",
    "c=a/b\n",
    "c"
   ]
  },
  {
   "cell_type": "code",
   "execution_count": 4,
   "id": "882b56b7",
   "metadata": {},
   "outputs": [
    {
     "data": {
      "text/plain": [
       "1"
      ]
     },
     "execution_count": 4,
     "metadata": {},
     "output_type": "execute_result"
    }
   ],
   "source": [
    "# Q3)(ii)\n",
    "\n",
    "# %\n",
    "# this is called modulo operator, its used to calvulate the reminder\n",
    "\n",
    "a=81\n",
    "b=8\n",
    "c=a%b\n",
    "c"
   ]
  },
  {
   "cell_type": "code",
   "execution_count": 5,
   "id": "ebf25985",
   "metadata": {},
   "outputs": [
    {
     "data": {
      "text/plain": [
       "4"
      ]
     },
     "execution_count": 5,
     "metadata": {},
     "output_type": "execute_result"
    }
   ],
   "source": [
    "# Q3)(iii)\n",
    "\n",
    "#//\n",
    "# This is called floor division operator, if perform division operation and return integer number\n",
    "\n",
    "a=9\n",
    "b=2\n",
    "c=a//b\n",
    "c"
   ]
  },
  {
   "cell_type": "code",
   "execution_count": 6,
   "id": "6c09ed8a",
   "metadata": {},
   "outputs": [
    {
     "data": {
      "text/plain": [
       "64"
      ]
     },
     "execution_count": 6,
     "metadata": {},
     "output_type": "execute_result"
    }
   ],
   "source": [
    "# Q3)(iv)\n",
    "\n",
    "#**\n",
    "# This is power operator, used to calculate power\n",
    "\n",
    "4**3"
   ]
  },
  {
   "cell_type": "code",
   "execution_count": 7,
   "id": "1bf5c70e",
   "metadata": {},
   "outputs": [
    {
     "name": "stdout",
     "output_type": "stream",
     "text": [
      "1\n",
      "2\n",
      "3.455\n",
      "Mango\n",
      "Banana\n",
      "-2342\n",
      "Man\n",
      "Woman\n",
      "0\n",
      "12\n"
     ]
    }
   ],
   "source": [
    "#Q4)\n",
    "\n",
    "l1=[1,2,3.455,'Mango', 'Banana', -2342,'Man','Woman', 0,12]\n",
    "\n",
    "for i in l1:\n",
    "    print(i)"
   ]
  },
  {
   "cell_type": "code",
   "execution_count": 17,
   "id": "0a5521f5",
   "metadata": {},
   "outputs": [
    {
     "name": "stdout",
     "output_type": "stream",
     "text": [
      "A is divisible by B = 9 times\n"
     ]
    }
   ],
   "source": [
    "# Q5)\n",
    "\n",
    "A=45\n",
    "B=5\n",
    "while A%B==0:\n",
    "    print(\"A is divisible by B =\",A//B,\"times\")\n",
    "    break\n",
    "else:\n",
    "    print(\"the number A is not purely divisible by number B\")"
   ]
  },
  {
   "cell_type": "code",
   "execution_count": 18,
   "id": "94fd469d",
   "metadata": {},
   "outputs": [
    {
     "data": {
      "text/plain": [
       "25"
      ]
     },
     "execution_count": 18,
     "metadata": {},
     "output_type": "execute_result"
    }
   ],
   "source": [
    "# Q6)\n",
    "\n",
    "my_list = [5, 12, 8, 17, 3, 20, 10, 1, 15, 9, 6, 22, 13, 7, 18, 4, 11, 19, 2, 16, 24, 14, 21, 23, 25]\n",
    "len(my_list)"
   ]
  },
  {
   "cell_type": "code",
   "execution_count": 21,
   "id": "1285e20a",
   "metadata": {},
   "outputs": [
    {
     "name": "stdout",
     "output_type": "stream",
     "text": [
      "check if divisible by 3 or not\n",
      "no\n",
      "yes\n",
      "no\n",
      "no\n",
      "yes\n",
      "no\n",
      "no\n",
      "no\n",
      "yes\n",
      "yes\n",
      "yes\n",
      "no\n",
      "no\n",
      "no\n",
      "yes\n",
      "no\n",
      "no\n",
      "no\n",
      "no\n",
      "no\n",
      "yes\n",
      "no\n",
      "yes\n",
      "no\n",
      "no\n"
     ]
    }
   ],
   "source": [
    "print(\"check if divisible by 3 or not\")\n",
    "for i in my_list:\n",
    "    if i%3==0:\n",
    "        print(\"yes\")\n",
    "    else:\n",
    "        print(\"no\")"
   ]
  },
  {
   "cell_type": "code",
   "execution_count": 29,
   "id": "7f74cd30",
   "metadata": {},
   "outputs": [
    {
     "name": "stdout",
     "output_type": "stream",
     "text": [
      "Hello World\n"
     ]
    },
    {
     "ename": "TypeError",
     "evalue": "'str' object does not support item assignment",
     "output_type": "error",
     "traceback": [
      "\u001b[1;31m---------------------------------------------------------------------------\u001b[0m",
      "\u001b[1;31mTypeError\u001b[0m                                 Traceback (most recent call last)",
      "Cell \u001b[1;32mIn[29], line 9\u001b[0m\n\u001b[0;32m      7\u001b[0m S\u001b[38;5;241m=\u001b[39m \u001b[38;5;124m\"\u001b[39m\u001b[38;5;124mHello World\u001b[39m\u001b[38;5;124m\"\u001b[39m\n\u001b[0;32m      8\u001b[0m \u001b[38;5;28mprint\u001b[39m(S)\n\u001b[1;32m----> 9\u001b[0m S[\u001b[38;5;241m-\u001b[39m\u001b[38;5;241m1\u001b[39m]\u001b[38;5;241m=\u001b[39m\u001b[38;5;124m'\u001b[39m\u001b[38;5;124mr\u001b[39m\u001b[38;5;124m'\u001b[39m\n",
      "\u001b[1;31mTypeError\u001b[0m: 'str' object does not support item assignment"
     ]
    }
   ],
   "source": [
    "# Q.7)\n",
    "\n",
    "''''Mutable datatype:\n",
    "This datatypes can not be deleted, appended or updated after created once, \n",
    "When we try to update this variable it create a different object and assign to the variable.\n",
    "examples: string'''\n",
    "\n",
    "S= \"Hello World\"\n",
    "print(S)\n",
    "S[-1]='r' "
   ]
  },
  {
   "cell_type": "code",
   "execution_count": 31,
   "id": "75e9d0bb",
   "metadata": {},
   "outputs": [
    {
     "name": "stdout",
     "output_type": "stream",
     "text": [
      "Hello Python\n"
     ]
    }
   ],
   "source": [
    "S=\"Hello Python\"\n",
    "print(S)"
   ]
  },
  {
   "cell_type": "code",
   "execution_count": 32,
   "id": "908c2e91",
   "metadata": {},
   "outputs": [
    {
     "name": "stdout",
     "output_type": "stream",
     "text": [
      "[1, 2, 3, 4, 5, 6]\n"
     ]
    }
   ],
   "source": [
    "''''Immutable datatype:\n",
    "This datatypes can be deleted, appended or updated after created once.\n",
    "List is an example of immutable datatype'''\n",
    "\n",
    "L1=[1,2,3,4,5,6]\n",
    "print(L1)"
   ]
  },
  {
   "cell_type": "code",
   "execution_count": 33,
   "id": "fa7fbb4c",
   "metadata": {},
   "outputs": [
    {
     "name": "stdout",
     "output_type": "stream",
     "text": [
      "[1, 2, 3, 4, 5, 6, 7]\n"
     ]
    }
   ],
   "source": [
    "L1.append(7)\n",
    "print(L1)"
   ]
  },
  {
   "cell_type": "code",
   "execution_count": 34,
   "id": "abd13d36",
   "metadata": {},
   "outputs": [
    {
     "name": "stdout",
     "output_type": "stream",
     "text": [
      "[1, 2, 3, 4, 5, 9, 7]\n"
     ]
    }
   ],
   "source": [
    "L1[-2]=9\n",
    "print(L1)"
   ]
  }
 ],
 "metadata": {
  "kernelspec": {
   "display_name": "Python 3 (ipykernel)",
   "language": "python",
   "name": "python3"
  },
  "language_info": {
   "codemirror_mode": {
    "name": "ipython",
    "version": 3
   },
   "file_extension": ".py",
   "mimetype": "text/x-python",
   "name": "python",
   "nbconvert_exporter": "python",
   "pygments_lexer": "ipython3",
   "version": "3.10.9"
  }
 },
 "nbformat": 4,
 "nbformat_minor": 5
}
