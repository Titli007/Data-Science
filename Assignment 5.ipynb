{
 "cells": [
  {
   "cell_type": "markdown",
   "id": "4c658695",
   "metadata": {},
   "source": [
    "# OOPS Assignment"
   ]
  },
  {
   "cell_type": "code",
   "execution_count": 1,
   "id": "c6165c77",
   "metadata": {},
   "outputs": [
    {
     "name": "stdout",
     "output_type": "stream",
     "text": [
      "Toyota\n",
      "Mustang\n",
      "The Toyota Corolla's engine is started.\n",
      "The Ford Mustang is being driven.\n"
     ]
    }
   ],
   "source": [
    "# Q1. Explain Class and Object with respect to Object-Oriented Programming. Give a suitable example.\n",
    "\n",
    "'''\n",
    "In object-oriented programming (OOP), a class is a blueprint or template that defines the characteristics and behaviors of an object.\n",
    "It is a conceptual entity that encapsulates data (attributes) and methods (functions) that operate on that data.\n",
    "A class provides a structure for creating objects of a specific type.\n",
    "\n",
    "An object, on the other hand, is an instance of a class. It represents a specific realization or occurrence of the class,\n",
    "with its own unique data values. Objects are created based on the defined class and have access to the attributes and methods \n",
    "defined within the class.\n",
    "'''\n",
    "\n",
    "class Car:\n",
    "    def __init__(self, brand, model, color):\n",
    "        self.brand = brand\n",
    "        self.model = model\n",
    "        self.color = color\n",
    "    \n",
    "    def start_engine(self):\n",
    "        print(f\"The {self.brand} {self.model}'s engine is started.\")\n",
    "\n",
    "    def drive(self):\n",
    "        print(f\"The {self.brand} {self.model} is being driven.\")\n",
    "\n",
    "\n",
    "car1 = Car(\"Toyota\", \"Corolla\", \"Red\")\n",
    "car2 = Car(\"Ford\", \"Mustang\", \"Blue\")\n",
    "\n",
    "\n",
    "print(car1.brand)  \n",
    "print(car2.model)  \n",
    "\n",
    "car1.start_engine()  \n",
    "car2.drive()       "
   ]
  },
  {
   "cell_type": "code",
   "execution_count": 2,
   "id": "5c9c1292",
   "metadata": {},
   "outputs": [
    {
     "data": {
      "text/plain": [
       "'\\nThe four pillars of object-oriented programming (OOP) are:\\n\\n1. Encapsulation: Encapsulation refers to the bundling of data and methods (or functions) together within a class. It allows the\\nclass to control access to its internal data and provides a way to enforce data integrity. Encapsulation helps in achieving data\\nhiding and abstraction.\\n\\n2. Inheritance: Inheritance is a mechanism that allows a class to inherit properties and behaviors from another class. The class\\nthat inherits is called a subclass or derived class, and the class from which it inherits is called a superclass or base class.\\nInheritance promotes code reuse and allows the creation of a hierarchy of classes with increasing specialization.\\n\\n3. Polymorphism: Polymorphism means having many forms. In the context of OOP, polymorphism allows objects of different classes \\nto be treated as objects of a common superclass. It enables objects to exhibit different behaviors based on their specific class\\nor type. Polymorphism can be achieved through method overriding and method overloading.\\n\\n4. Abstraction: Abstraction refers to the process of representing complex real-world entities as simplified models in software.\\nIt involves hiding unnecessary details and exposing only relevant information to the user. Abstraction allows us to focus on\\nessential features and behaviors while ignoring the implementation details. It helps in managing complexity and improves code\\nmaintainability\\n'"
      ]
     },
     "execution_count": 2,
     "metadata": {},
     "output_type": "execute_result"
    }
   ],
   "source": [
    "# Q2. Name the four pillars of OOPs.\n",
    "\n",
    "'''\n",
    "The four pillars of object-oriented programming (OOP) are:\n",
    "\n",
    "1. Encapsulation: Encapsulation refers to the bundling of data and methods (or functions) together within a class. It allows the\n",
    "class to control access to its internal data and provides a way to enforce data integrity. Encapsulation helps in achieving data\n",
    "hiding and abstraction.\n",
    "\n",
    "2. Inheritance: Inheritance is a mechanism that allows a class to inherit properties and behaviors from another class. The class\n",
    "that inherits is called a subclass or derived class, and the class from which it inherits is called a superclass or base class.\n",
    "Inheritance promotes code reuse and allows the creation of a hierarchy of classes with increasing specialization.\n",
    "\n",
    "3. Polymorphism: Polymorphism means having many forms. In the context of OOP, polymorphism allows objects of different classes \n",
    "to be treated as objects of a common superclass. It enables objects to exhibit different behaviors based on their specific class\n",
    "or type. Polymorphism can be achieved through method overriding and method overloading.\n",
    "\n",
    "4. Abstraction: Abstraction refers to the process of representing complex real-world entities as simplified models in software.\n",
    "It involves hiding unnecessary details and exposing only relevant information to the user. Abstraction allows us to focus on\n",
    "essential features and behaviors while ignoring the implementation details. It helps in managing complexity and improves code\n",
    "maintainability\n",
    "'''"
   ]
  },
  {
   "cell_type": "code",
   "execution_count": 3,
   "id": "e1586a8f",
   "metadata": {},
   "outputs": [
    {
     "name": "stdout",
     "output_type": "stream",
     "text": [
      "Alice\n",
      "25\n",
      "My name is Alice and I am 25 years old.\n"
     ]
    }
   ],
   "source": [
    "# Q3. Explain why the __init__() function is used. Give a suitable example.\n",
    "\n",
    "'''\n",
    "The __init__() function in Python is a special method that is automatically called when an object of a class is created. \n",
    "It is commonly used to initialize the attributes or properties of the object. The primary purpose of the __init__() function is\n",
    "to set up the initial state of the object by assigning values to its attributes. It allows you to specify the initial values of\n",
    "the object's attributes when creating an instance of the class.\n",
    "'''\n",
    "\n",
    "class Person:\n",
    "    def __init__(self, name, age):\n",
    "        self.name = name\n",
    "        self.age = age\n",
    "\n",
    "    def introduce(self):\n",
    "        print(f\"My name is {self.name} and I am {self.age} years old.\")\n",
    "\n",
    "person1 = Person(\"Alice\", 25)\n",
    "\n",
    "print(person1.name)  \n",
    "print(person1.age)  \n",
    "\n",
    "person1.introduce()  "
   ]
  },
  {
   "cell_type": "code",
   "execution_count": 5,
   "id": "bf9e37e4",
   "metadata": {},
   "outputs": [
    {
     "name": "stdout",
     "output_type": "stream",
     "text": [
      "John\n",
      "20\n",
      "My name is John and I am 20 years old.\n",
      "Happy birthday! Now I am 21 years old.\n"
     ]
    }
   ],
   "source": [
    "# Q4. Why self is used in OOPs?\n",
    "\n",
    "'''\n",
    "self is a reference used within a class to access the attributes and methods of an instance of that class.\n",
    "'''\n",
    "\n",
    "class Circle:\n",
    "    def __init__(self, radius):\n",
    "        self.radius = radius\n",
    "\n",
    "    def calculate_area(self):\n",
    "        area = 3.14 * self.radius**2\n",
    "        return area\n",
    "\n",
    "my_circle = Circle(5)\n",
    "\n",
    "print(my_circle.radius)            \n",
    "\n",
    "print(my_circle.calculate_area())  "
   ]
  },
  {
   "cell_type": "code",
   "execution_count": 6,
   "id": "918a53bd",
   "metadata": {},
   "outputs": [
    {
     "name": "stdout",
     "output_type": "stream",
     "text": [
      "Animal makes a sound\n",
      "Dog belongs to a specific breed\n"
     ]
    }
   ],
   "source": [
    "# Q5. What is inheritance? Give an example for each type of inheritance.\n",
    "\n",
    "'''\n",
    "inheritance allows a class to inherit properties and behaviors from another class\n",
    "'''\n",
    "\n",
    "# single inheritance\n",
    "\n",
    "class Animal:\n",
    "    def sound(self):\n",
    "        print(\"Animal makes a sound\")\n",
    "\n",
    "class Dog(Animal):\n",
    "    def breed(self):\n",
    "        print(\"Dog belongs to a specific breed\")\n",
    "\n",
    "dog = Dog()\n",
    "dog.sound() \n",
    "dog.breed() "
   ]
  },
  {
   "cell_type": "code",
   "execution_count": 7,
   "id": "2037b25e",
   "metadata": {},
   "outputs": [
    {
     "name": "stdout",
     "output_type": "stream",
     "text": [
      "Animal makes a sound\n",
      "Mammal eats\n",
      "Dog belongs to a specific breed\n"
     ]
    }
   ],
   "source": [
    "# multiple inheritance\n",
    "\n",
    "class Mammal:\n",
    "    def eat(self):\n",
    "        print(\"Mammal eats\")\n",
    "\n",
    "class Dog(Mammal, Animal):\n",
    "    def breed(self):\n",
    "        print(\"Dog belongs to a specific breed\")\n",
    "\n",
    "dog = Dog()\n",
    "dog.sound() \n",
    "dog.eat()    \n",
    "dog.breed()   "
   ]
  },
  {
   "cell_type": "code",
   "execution_count": 8,
   "id": "702d8edf",
   "metadata": {},
   "outputs": [
    {
     "name": "stdout",
     "output_type": "stream",
     "text": [
      "Animal makes a sound\n",
      "Dog belongs to a specific breed\n",
      "Retriever can have different colors\n"
     ]
    }
   ],
   "source": [
    "# multilevel inheritance\n",
    "\n",
    "class Animal:\n",
    "    def sound(self):\n",
    "        print(\"Animal makes a sound\")\n",
    "\n",
    "class Dog(Animal):\n",
    "    def breed(self):\n",
    "        print(\"Dog belongs to a specific breed\")\n",
    "\n",
    "class Retriever(Dog):\n",
    "    def color(self):\n",
    "        print(\"Retriever can have different colors\")\n",
    "\n",
    "retriever = Retriever()\n",
    "retriever.sound() \n",
    "retriever.breed() \n",
    "retriever.color()   "
   ]
  },
  {
   "cell_type": "code",
   "execution_count": 10,
   "id": "b1ec1844",
   "metadata": {},
   "outputs": [
    {
     "name": "stdout",
     "output_type": "stream",
     "text": [
      "Animal makes a sound\n",
      "Cat belongs to a specific breed\n"
     ]
    }
   ],
   "source": [
    "# Hierarchical Inheritance\n",
    "\n",
    "class Animal:\n",
    "    def sound(self):\n",
    "        print(\"Animal makes a sound\")\n",
    "\n",
    "class Cat(Animal):\n",
    "    def breed(self):\n",
    "        print(\"Cat belongs to a specific breed\")\n",
    "\n",
    "class Lion(Animal):\n",
    "    def roar(self):\n",
    "        print(\"Lion roars loudly\")\n",
    "\n",
    "cat = Cat()\n",
    "cat.sound()\n",
    "cat.breed()  "
   ]
  },
  {
   "cell_type": "code",
   "execution_count": null,
   "id": "96194d10",
   "metadata": {},
   "outputs": [],
   "source": []
  }
 ],
 "metadata": {
  "kernelspec": {
   "display_name": "Python 3 (ipykernel)",
   "language": "python",
   "name": "python3"
  },
  "language_info": {
   "codemirror_mode": {
    "name": "ipython",
    "version": 3
   },
   "file_extension": ".py",
   "mimetype": "text/x-python",
   "name": "python",
   "nbconvert_exporter": "python",
   "pygments_lexer": "ipython3",
   "version": "3.10.9"
  }
 },
 "nbformat": 4,
 "nbformat_minor": 5
}
