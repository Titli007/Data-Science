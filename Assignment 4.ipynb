{
 "cells": [
  {
   "cell_type": "markdown",
   "id": "c3bbe542",
   "metadata": {},
   "source": [
    "# Function Assignment"
   ]
  },
  {
   "cell_type": "code",
   "execution_count": 1,
   "id": "a1f837b2",
   "metadata": {},
   "outputs": [
    {
     "name": "stdout",
     "output_type": "stream",
     "text": [
      "[1, 3, 5, 7, 9, 11, 13, 15, 17, 19, 21, 23, 25]\n"
     ]
    }
   ],
   "source": [
    "# Q1. Which keyword is used to create a function? Create a function to return a list of odd numbers in the range of 1 to 25.\n",
    "\n",
    "#'def' keyword is used to create a function\n",
    "\n",
    "def get_odd_numbers():\n",
    "    odd_numbers = []\n",
    "    for num in range(1, 26):\n",
    "        if num % 2 != 0:\n",
    "            odd_numbers.append(num)\n",
    "    return odd_numbers\n",
    "\n",
    "result = get_odd_numbers()\n",
    "print(result)"
   ]
  },
  {
   "cell_type": "code",
   "execution_count": 4,
   "id": "073ee0e5",
   "metadata": {},
   "outputs": [
    {
     "name": "stdout",
     "output_type": "stream",
     "text": [
      "Hello\n",
      "World\n",
      "!\n"
     ]
    }
   ],
   "source": [
    "# Q2. Why *args and **kwargs is used in some functions? Create a function each for *args and **kwargs to demonstrate their use.\n",
    "\n",
    "# The *args parameter allows a function to accept any number of positional arguments.\n",
    "\n",
    "def print_args(*args):\n",
    "    for i in args:\n",
    "        print(i)\n",
    "\n",
    "print_args('Hello', 'World', '!')"
   ]
  },
  {
   "cell_type": "code",
   "execution_count": 6,
   "id": "0508cb5b",
   "metadata": {},
   "outputs": [
    {
     "name": "stdout",
     "output_type": "stream",
     "text": [
      "name Mita\n",
      "age 25\n",
      "city Howrah\n"
     ]
    }
   ],
   "source": [
    "# The **kwargs parameter allows a function to accept any number of keyword arguments.\n",
    "def print_kwargs(**kwargs):\n",
    "    for key, value in kwargs.items():\n",
    "        print(key, value)\n",
    "\n",
    "print_kwargs(name='Mita', age=25, city='Howrah')"
   ]
  },
  {
   "cell_type": "code",
   "execution_count": 9,
   "id": "097db5c1",
   "metadata": {},
   "outputs": [
    {
     "name": "stdout",
     "output_type": "stream",
     "text": [
      "<list_iterator object at 0x000001F6C7204160>\n"
     ]
    }
   ],
   "source": [
    "# Q3. What is an iterator in python? Name the method used to initialise the iterator object and the method used for iteration. Use these methods to print the first five elements of the given list [2, 4, 6, 8, 10, 12, 14, 16, 18, 20].\n",
    "\n",
    "# an iterator is an object that represents a stream of data. It allows us to iterate over elements in a sequence.\n",
    "\n",
    "MY_LIST = [2, 4, 6, 8, 10, 12, 14, 16, 18, 20]\n",
    "\n",
    "iter_numbers = iter(MY_LIST)\n",
    "\n",
    "print(iter_numbers)"
   ]
  },
  {
   "cell_type": "code",
   "execution_count": 10,
   "id": "62e6080b",
   "metadata": {},
   "outputs": [
    {
     "name": "stdout",
     "output_type": "stream",
     "text": [
      "2\n",
      "4\n",
      "6\n",
      "8\n",
      "10\n"
     ]
    }
   ],
   "source": [
    "# Print the first five elements\n",
    "for _ in range(5):\n",
    "    element = next(iter_numbers)\n",
    "    print(element)"
   ]
  },
  {
   "cell_type": "code",
   "execution_count": 11,
   "id": "2fd03a87",
   "metadata": {},
   "outputs": [
    {
     "name": "stdout",
     "output_type": "stream",
     "text": [
      "0\n",
      "2\n",
      "4\n",
      "6\n",
      "8\n"
     ]
    }
   ],
   "source": [
    "# Q4. What is a generator function in python? Why yield keyword is used? Give an example of a generator function.\n",
    "\n",
    "'''generator functions use the yield keyword to yield a value and temporarily suspend the function's execution.\n",
    "When a value is yielded, the generator function's state is saved, and it can be resumed from where it left off when requested.'''\n",
    "\n",
    "'''The yield keyword is used in generator functions to define points at which the function can yield values.\n",
    "Each time the yield keyword is encountered, the function pauses, and the yielded value is returned to the caller. \n",
    "The function's state is preserved, allowing it to continue from where it left off when called again.'''\n",
    "\n",
    "def even_numbers():\n",
    "    num = 0\n",
    "    while True:\n",
    "        yield num\n",
    "        num += 2\n",
    "evens = even_numbers()\n",
    "for _ in range(5):\n",
    "    print(next(evens))"
   ]
  },
  {
   "cell_type": "code",
   "execution_count": 12,
   "id": "6ad25adb",
   "metadata": {},
   "outputs": [
    {
     "name": "stdout",
     "output_type": "stream",
     "text": [
      "2\n",
      "3\n",
      "5\n",
      "7\n",
      "11\n",
      "13\n",
      "17\n",
      "19\n",
      "23\n",
      "29\n",
      "31\n",
      "37\n",
      "41\n",
      "43\n",
      "47\n",
      "53\n",
      "59\n",
      "61\n",
      "67\n",
      "71\n"
     ]
    }
   ],
   "source": [
    "# Q5. Create a generator function for prime numbers less than 1000. Use the next() method to print the first 20 prime numbers.\n",
    "\n",
    "def generate_primes():\n",
    "    num = 2\n",
    "    primes_found = 0\n",
    "\n",
    "    while primes_found < 20:\n",
    "        if is_prime(num):\n",
    "            yield num\n",
    "            primes_found += 1\n",
    "        num += 1\n",
    "\n",
    "def is_prime(n):\n",
    "    if n < 2:\n",
    "        return False\n",
    "\n",
    "    for i in range(2, int(n ** 0.5) + 1):\n",
    "        if n % i == 0:\n",
    "            return False\n",
    "\n",
    "    return True\n",
    "\n",
    "\n",
    "prime_generator = generate_primes()\n",
    "\n",
    "# Print the first 20 prime numbers\n",
    "for _ in range(20):\n",
    "    prime_number = next(prime_generator)\n",
    "    print(prime_number)"
   ]
  }
 ],
 "metadata": {
  "kernelspec": {
   "display_name": "Python 3 (ipykernel)",
   "language": "python",
   "name": "python3"
  },
  "language_info": {
   "codemirror_mode": {
    "name": "ipython",
    "version": 3
   },
   "file_extension": ".py",
   "mimetype": "text/x-python",
   "name": "python",
   "nbconvert_exporter": "python",
   "pygments_lexer": "ipython3",
   "version": "3.10.9"
  }
 },
 "nbformat": 4,
 "nbformat_minor": 5
}
