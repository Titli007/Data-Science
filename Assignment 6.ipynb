{
 "cells": [
  {
   "cell_type": "markdown",
   "id": "38c723cf",
   "metadata": {},
   "source": [
    "# OOPS task assignment"
   ]
  },
  {
   "cell_type": "code",
   "execution_count": 1,
   "id": "b7fb5312",
   "metadata": {},
   "outputs": [
    {
     "name": "stdout",
     "output_type": "stream",
     "text": [
      "Car\n",
      "200\n",
      "30\n"
     ]
    }
   ],
   "source": [
    "# Q1, Create a vehicle class with an init method having instance variables as name_of_vehicle, max_speed and average_of_vehicle.\n",
    "\n",
    "class Vehicle:\n",
    "    def __init__(self, name_of_vehicle, max_speed, average_of_vehicle):\n",
    "        self.name_of_vehicle = name_of_vehicle\n",
    "        self.max_speed = max_speed\n",
    "        self.average_of_vehicle = average_of_vehicle\n",
    "        \n",
    "car = Vehicle(\"Car\", 200, 30)\n",
    "print(car.name_of_vehicle)\n",
    "print(car.max_speed)  \n",
    "print(car.average_of_vehicle)   "
   ]
  },
  {
   "cell_type": "code",
   "execution_count": 3,
   "id": "15e9d8aa",
   "metadata": {},
   "outputs": [
    {
     "name": "stdout",
     "output_type": "stream",
     "text": [
      "The Toyota has a seating capacity of 5.\n"
     ]
    }
   ],
   "source": [
    "# Q2. Create a child class car from the vehicle class created in Que 1, which will inherit the vehicle class. Create a method named seating_capacity which takes capacity as an argument and returns the name of the vehicle and its seating capacity.\n",
    "\n",
    "class Car(Vehicle):\n",
    "    def seating_capacity(self, capacity):\n",
    "        return f\"The {self.name_of_vehicle} has a seating capacity of {capacity}.\"\n",
    "\n",
    "car = Car(\"Toyota\", 200, 30)\n",
    "print(car.seating_capacity(5))\n"
   ]
  },
  {
   "cell_type": "code",
   "execution_count": 4,
   "id": "cbe41356",
   "metadata": {},
   "outputs": [
    {
     "name": "stdout",
     "output_type": "stream",
     "text": [
      "FlyingCar is starting.\n",
      "FlyingCar is driving.\n",
      "FlyingCar is flying.\n"
     ]
    }
   ],
   "source": [
    "# Q3. What is multiple inheritance? Write a python code to demonstrate multiple inheritance.\n",
    "\n",
    "'''\n",
    "Multiple inheritance is a feature in object-oriented programming where a class can inherit attributes and methods from multiple\n",
    "parent classes. In multiple inheritance, a child class can inherit from more than one parent class, allowing it to access and\n",
    "utilize the attributes and methods defined in each parent class.\n",
    "'''\n",
    "\n",
    "class Vehicle:\n",
    "    def __init__(self, name):\n",
    "        self.name = name\n",
    "\n",
    "    def start(self):\n",
    "        print(f\"{self.name} is starting.\")\n",
    "\n",
    "\n",
    "class Flyable:\n",
    "    def fly(self):\n",
    "        print(f\"{self.name} is flying.\")\n",
    "\n",
    "\n",
    "class Car(Vehicle):\n",
    "    def drive(self):\n",
    "        print(f\"{self.name} is driving.\")\n",
    "\n",
    "\n",
    "class FlyingCar(Car, Flyable):\n",
    "    pass\n",
    "\n",
    "\n",
    "flying_car = FlyingCar(\"FlyingCar\")\n",
    "flying_car.start() \n",
    "flying_car.drive()  \n",
    "flying_car.fly()  "
   ]
  },
  {
   "cell_type": "code",
   "execution_count": 6,
   "id": "b08ca2e5",
   "metadata": {},
   "outputs": [
    {
     "name": "stdout",
     "output_type": "stream",
     "text": [
      "John\n",
      "Alice\n",
      "Invalid name.\n",
      "Alice\n"
     ]
    }
   ],
   "source": [
    "# Q4. What are getter and setter in python? Create a class and create a getter and a setter method in this class.\n",
    "\n",
    "'''\n",
    "In Python, getters and setters are methods used to retrieve and modify the values of private attributes in a class. They provide\n",
    "a way to control access to the attributes and can include additional logic or validations.\n",
    "'''\n",
    "\n",
    "class Person:\n",
    "    def __init__(self, name):\n",
    "        self._name = name\n",
    "\n",
    "    def get_name(self):\n",
    "        return self._name\n",
    "\n",
    "    def set_name(self, new_name):\n",
    "        if new_name:\n",
    "            self._name = new_name\n",
    "        else:\n",
    "            print(\"Invalid name.\")\n",
    "            \n",
    "person = Person(\"John\")\n",
    "print(person.get_name())\n",
    "\n",
    "person.set_name(\"Alice\")\n",
    "print(person.get_name()) \n",
    "\n",
    "person.set_name(\"\")  \n",
    "print(person.get_name()) \n"
   ]
  },
  {
   "cell_type": "code",
   "execution_count": 7,
   "id": "6ba14457",
   "metadata": {},
   "outputs": [
    {
     "name": "stdout",
     "output_type": "stream",
     "text": [
      "The animal makes a sound.\n",
      "The cat meows.\n",
      "The dog barks.\n"
     ]
    }
   ],
   "source": [
    "# Q5.What is method overriding in python? Write a python code to demonstrate method overriding.\n",
    "\n",
    "'''\n",
    "Method overriding is a feature in object-oriented programming where a subclass provides its own implementation of a method that\n",
    "is already defined in its parent class.\n",
    "'''\n",
    "\n",
    "class Animal:\n",
    "    def speak(self):\n",
    "        print(\"The animal makes a sound.\")\n",
    "\n",
    "\n",
    "class Cat(Animal):\n",
    "    def speak(self):\n",
    "        print(\"The cat meows.\")\n",
    "\n",
    "\n",
    "class Dog(Animal):\n",
    "    def speak(self):\n",
    "        print(\"The dog barks.\")\n",
    "\n",
    "\n",
    "animal = Animal()\n",
    "animal.speak()  \n",
    "\n",
    "cat = Cat()\n",
    "cat.speak()    \n",
    "\n",
    "dog = Dog()\n",
    "dog.speak()    "
   ]
  },
  {
   "cell_type": "code",
   "execution_count": null,
   "id": "aa1967eb",
   "metadata": {},
   "outputs": [],
   "source": []
  }
 ],
 "metadata": {
  "kernelspec": {
   "display_name": "Python 3 (ipykernel)",
   "language": "python",
   "name": "python3"
  },
  "language_info": {
   "codemirror_mode": {
    "name": "ipython",
    "version": 3
   },
   "file_extension": ".py",
   "mimetype": "text/x-python",
   "name": "python",
   "nbconvert_exporter": "python",
   "pygments_lexer": "ipython3",
   "version": "3.10.9"
  }
 },
 "nbformat": 4,
 "nbformat_minor": 5
}
